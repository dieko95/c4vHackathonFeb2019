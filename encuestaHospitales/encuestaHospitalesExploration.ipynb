{
 "cells": [
  {
   "cell_type": "markdown",
   "metadata": {},
   "source": [
    "# Encuesta de Hospitales Exploration"
   ]
  },
  {
   "cell_type": "markdown",
   "metadata": {},
   "source": [
    "## Import Libraries"
   ]
  },
  {
   "cell_type": "code",
   "execution_count": 2,
   "metadata": {
    "ExecuteTime": {
     "end_time": "2019-12-21T01:30:21.407726Z",
     "start_time": "2019-12-21T01:30:21.059053Z"
    }
   },
   "outputs": [],
   "source": [
    "import pandas as pd"
   ]
  },
  {
   "cell_type": "code",
   "execution_count": 3,
   "metadata": {
    "ExecuteTime": {
     "end_time": "2019-12-21T01:30:23.405734Z",
     "start_time": "2019-12-21T01:30:21.421749Z"
    }
   },
   "outputs": [],
   "source": [
    "\n",
    "_enHospObj = pd.ExcelFile('dataset/Encuesta Nacional de Hospitales versión Diálisis(Responses).xlsx')\n",
    "enHospDf = pd.read_excel('dataset/Encuesta Nacional de Hospitales versión Diálisis(Responses).xlsx',sheet_name=_enHospObj.sheet_names[0])\n"
   ]
  },
  {
   "cell_type": "markdown",
   "metadata": {},
   "source": [
    "## First Exploration iteration"
   ]
  },
  {
   "cell_type": "code",
   "execution_count": 4,
   "metadata": {
    "ExecuteTime": {
     "end_time": "2019-12-21T01:14:25.354021Z",
     "start_time": "2019-12-21T01:14:25.325203Z"
    }
   },
   "outputs": [
    {
     "name": "stdout",
     "output_type": "stream",
     "text": [
      "<class 'pandas.core.frame.DataFrame'>\n",
      "RangeIndex: 758 entries, 0 to 757\n",
      "Columns: 118 entries, Timestamp to 24.- De los materiales médico-quirúrgicos y de laboratorio necesarios para la hemodiálisis describa la disponibilidad en la última semana [Acceso inmediato a % de reducción de urea o BUN]\n",
      "dtypes: datetime64[ns](1), float64(10), int64(14), object(93)\n",
      "memory usage: 698.9+ KB\n"
     ]
    },
    {
     "data": {
      "text/plain": [
       "Index(['61.- En caso que haya ocurrido algún tipo de protesta, señale las opciones de protesta mas ajustadas  [Otros]',\n",
       "       '15.- ¿Cuál es la/las razón(es) por la que no está operativo el servicio de diálisis? (seleccione las correctas)',\n",
       "       '14.- ¿Desde cuándo no está operativo el servicio de diálisis?',\n",
       "       '30.- ¿Cuál es la/las razón(es) por la que no está operativo el servicio de nutrición? (seleccione las correctas)',\n",
       "       '29.- ¿Desde cuándo no está operativo el servicio de nutrición?',\n",
       "       '61.- En caso que haya ocurrido algún tipo de protesta, señale las opciones de protesta mas ajustadas  [Otro personal del Hospital]',\n",
       "       '61.- En caso que haya ocurrido algún tipo de protesta, señale las opciones de protesta mas ajustadas  [Familiares y/o pacientes]',\n",
       "       '61.- En caso que haya ocurrido algún tipo de protesta, señale las opciones de protesta mas ajustadas  [Personal médico]',\n",
       "       '61.- En caso que haya ocurrido algún tipo de protesta, señale las opciones de protesta mas ajustadas  [Enfermeras]',\n",
       "       '63.- Señale alguna situación (fallecidos u hospitalizados) con sospecha clínica de cualquiera de estas enfermedades (seleccione todas las opciones que corresponda)',\n",
       "       '18.- Si la respuesta a la pregunta anterior es \"0\" ¿Cuál es la/las razón(es) por la que no se realiza  diálisis peritoneal? (seleccione las correctas)',\n",
       "       '60.- Causa de muerte por trauma agudo interpretada como falla institucional (emergencia )',\n",
       "       '58.- Causa de muerte cardiovascular interpretada como falla institucional (emergencia )',\n",
       "       '53.- ¿Cuáles equipos fallaron posterior a fallas de energía la semana pasada? ',\n",
       "       '62.- En caso que se hayan producido situaciones de violencia contra personal hospitalario, señale las opciones correspondientes (seleccione todas las opciones que corresponda)',\n",
       "       '24.- De los materiales médico-quirúrgicos y de laboratorio necesarios para la hemodiálisis describa la disponibilidad en la última semana [Catéteres de alto flujo]',\n",
       "       '24.- De los materiales médico-quirúrgicos y de laboratorio necesarios para la hemodiálisis describa la disponibilidad en la última semana [Acceso inmediato a % de reducción de urea o BUN]',\n",
       "       '24.- De los materiales médico-quirúrgicos y de laboratorio necesarios para la hemodiálisis describa la disponibilidad en la última semana [Exámenes de serología (HIV, HVB, HVC y VDR)L)]',\n",
       "       '56.-¿Cuántos fallecidos hubo por causas atribuibles a la falta de energía eléctrica?',\n",
       "       '20.-¿Cuántos de estos pacientes son agudos?',\n",
       "       '19.- ¿Cuántos de estos están en hemodiálisis?',\n",
       "       '21.-¿Cuántos de estos pacientes son crónicos?',\n",
       "       '22.-¿Cuántos equipos de hemodiálisis existen en el servicio?',\n",
       "       '23.-¿Cuántos de estos equipos de hemodiálisis están operativos?',\n",
       "       '24.- De los materiales médico-quirúrgicos y de laboratorio necesarios para la hemodiálisis describa la disponibilidad en la última semana [Zemblar®]',\n",
       "       '26.- Con respecto al personal que trabajó en el servicio de diálisis la última semana. ¿Cuántos días trabajo cada profesional? [Residente]',\n",
       "       '24.- De los materiales médico-quirúrgicos y de laboratorio necesarios para la hemodiálisis describa la disponibilidad en la última semana [Calcio]',\n",
       "       '24.- De los materiales médico-quirúrgicos y de laboratorio necesarios para la hemodiálisis describa la disponibilidad en la última semana [Lineas de conexión]',\n",
       "       '26.- Con respecto al personal que trabajó en el servicio de diálisis la última semana. ¿Cuántos días trabajo cada profesional? [Médico general]',\n",
       "       '25.-Con respecto a la planta de ósmosis inversa, ¿Cuántos días estuvo operativa la última semana?',\n",
       "       '26.- Con respecto al personal que trabajó en el servicio de diálisis la última semana. ¿Cuántos días trabajo cada profesional? [Enfermera especialista en nefrología]',\n",
       "       '24.- De los materiales médico-quirúrgicos y de laboratorio necesarios para la hemodiálisis describa la disponibilidad en la última semana [Kit de hemodiálisis ]',\n",
       "       '24.- De los materiales médico-quirúrgicos y de laboratorio necesarios para la hemodiálisis describa la disponibilidad en la última semana [Complejo B]',\n",
       "       '26.- Con respecto al personal que trabajó en el servicio de diálisis la última semana. ¿Cuántos días trabajo cada profesional? [Especialista Nefrólogo]',\n",
       "       '26.- Con respecto al personal que trabajó en el servicio de diálisis la última semana. ¿Cuántos días trabajo cada profesional? [Enfermera graduada]',\n",
       "       '24.- De los materiales médico-quirúrgicos y de laboratorio necesarios para la hemodiálisis describa la disponibilidad en la última semana [Filtros]',\n",
       "       '24.- De los materiales médico-quirúrgicos y de laboratorio necesarios para la hemodiálisis describa la disponibilidad en la última semana [Hierro]',\n",
       "       '17.- ¿Cuántos de estos están en diálisis peritoneal?',\n",
       "       '16.- ¿Cuál es la cantidad de pacientes promedio diario en diálisis en el servicio en la última semana?',\n",
       "       '59.- Número de muertes por trauma interpretada como falla institucional (emergencia )',\n",
       "       '57.- Número de muertes cardiovasculares interpretada como falla institucional (emergencia )',\n",
       "       '13.-¿Está operativo el servicio de diálisis?',\n",
       "       '32.- Frecuencia diaria de comidas del servicio de nutrición',\n",
       "       '33.- Calidad del servicio de nutrición',\n",
       "       '34. - Frecuencia en el suministro de fórmulas lácteas (solo si existe pediatría)',\n",
       "       '31.- ¿Cuántos días funcionó el servicio de nutrición la última semana?',\n",
       "       '28.-¿Está operativo el servicio de nutrición?'],\n",
       "      dtype='object')"
      ]
     },
     "execution_count": 4,
     "metadata": {},
     "output_type": "execute_result"
    }
   ],
   "source": [
    "# 118 Columns\n",
    "\n",
    "enHospDf.info() # float(10 columns), int(64 columns), object(93 columns)\n",
    "\n",
    "enHospDf.isna().sum().sum() #17,539 null datapoints\n",
    "\n",
    "nullValues = enHospDf.isna().mean().sort_values(ascending = False) # Percentage of Null Values\n",
    "\n",
    "nullValues[nullValues > 0].index # It is necessary to group all the variables by category\n"
   ]
  },
  {
   "cell_type": "markdown",
   "metadata": {},
   "source": [
    "### Group Variables by heuristics\n",
    " The dataset is divided in 11 different sections:\n",
    " \n",
    "\n",
    "1. ID Data\n",
    "2. General operability Var 5 to var 8\n",
    "3. Specific operability <br> - In this section the 3 questions are likert scales. Thus, the high number of columns \n",
    "4. Dialysis Service\n",
    "5. Nutrition Service\n",
    "6. Attention Quality\n",
    "7. Personnel Availability\n",
    "8. Public Service\n",
    "9. Mortality Impact\n",
    "10. Violence and Protests\n",
    "11. Epidemiological Emergency"
   ]
  },
  {
   "cell_type": "code",
   "execution_count": 5,
   "metadata": {
    "ExecuteTime": {
     "end_time": "2019-12-21T01:14:25.421615Z",
     "start_time": "2019-12-21T01:14:25.409964Z"
    }
   },
   "outputs": [],
   "source": [
    "# Section 1\n",
    "idData = enHospDf.iloc[:,0:6]\n",
    "\n",
    "# Section 2\n",
    "genOp = enHospDf.iloc[:,6:10]\n",
    "\n",
    "# Section 3\n",
    "espOp = enHospDf.iloc[:,10:47]\n",
    "\n",
    "# Section 4\n",
    "dialServ = enHospDf.iloc[:,47:72]\n",
    "\n",
    "# Section 5\n",
    "nutriServ = enHospDf.iloc[:,72:80]\n",
    "\n",
    "# Section 6\n",
    "attQual = enHospDf.iloc[:,80:82]\n",
    "\n",
    "# Section 7\n",
    "personelDisp = enHospDf.iloc[:,82:91]\n",
    "\n",
    "# Section 8 \n",
    "publicServ = enHospDf.iloc[:,91:104]\n",
    "\n",
    "# Section 9\n",
    "mortImpact = enHospDf.iloc[:,104:108]\n",
    "\n",
    "# Section 10 \n",
    "violence = enHospDf.iloc[:,108:114]\n",
    "\n",
    "# Section 11 \n",
    "epiEmerg = enHospDf.iloc[:,115]"
   ]
  },
  {
   "cell_type": "code",
   "execution_count": 12,
   "metadata": {
    "ExecuteTime": {
     "end_time": "2019-12-21T01:17:30.570037Z",
     "start_time": "2019-12-21T01:17:29.704974Z"
    }
   },
   "outputs": [
    {
     "data": {
      "text/plain": [
       "[<googletrans.models.Translated at 0x7f2b6285ce48>,\n",
       " <googletrans.models.Translated at 0x7f2b628626d8>,\n",
       " <googletrans.models.Translated at 0x7f2b628625f8>,\n",
       " <googletrans.models.Translated at 0x7f2b62802d30>,\n",
       " <googletrans.models.Translated at 0x7f2b62e768d0>,\n",
       " <googletrans.models.Translated at 0x7f2b62e2f908>]"
      ]
     },
     "execution_count": 12,
     "metadata": {},
     "output_type": "execute_result"
    }
   ],
   "source": [
    "# from googletrans import Translator\n",
    "# translator = Translator()\n",
    "# translation = translator.translate(violence.columns.to_list(), src= 'spanish', dest='english')\n"
   ]
  },
  {
   "cell_type": "code",
   "execution_count": 13,
   "metadata": {
    "ExecuteTime": {
     "end_time": "2019-12-21T01:17:41.645572Z",
     "start_time": "2019-12-21T01:17:41.641264Z"
    }
   },
   "outputs": [
    {
     "data": {
      "text/plain": [
       "'61. In case any kind of protest occurred, indicate the options protest tighter [Nurses]'"
      ]
     },
     "execution_count": 13,
     "metadata": {},
     "output_type": "execute_result"
    }
   ],
   "source": [
    "translation[1].text"
   ]
  }
 ],
 "metadata": {
  "kernelspec": {
   "display_name": "Python 3",
   "language": "python",
   "name": "python3"
  },
  "language_info": {
   "codemirror_mode": {
    "name": "ipython",
    "version": 3
   },
   "file_extension": ".py",
   "mimetype": "text/x-python",
   "name": "python",
   "nbconvert_exporter": "python",
   "pygments_lexer": "ipython3",
   "version": "3.7.3"
  },
  "toc": {
   "base_numbering": 1,
   "nav_menu": {},
   "number_sections": true,
   "sideBar": true,
   "skip_h1_title": false,
   "title_cell": "Table of Contents",
   "title_sidebar": "Contents",
   "toc_cell": false,
   "toc_position": {},
   "toc_section_display": true,
   "toc_window_display": false
  },
  "varInspector": {
   "cols": {
    "lenName": 16,
    "lenType": 16,
    "lenVar": 40
   },
   "kernels_config": {
    "python": {
     "delete_cmd_postfix": "",
     "delete_cmd_prefix": "del ",
     "library": "var_list.py",
     "varRefreshCmd": "print(var_dic_list())"
    },
    "r": {
     "delete_cmd_postfix": ") ",
     "delete_cmd_prefix": "rm(",
     "library": "var_list.r",
     "varRefreshCmd": "cat(var_dic_list()) "
    }
   },
   "types_to_exclude": [
    "module",
    "function",
    "builtin_function_or_method",
    "instance",
    "_Feature"
   ],
   "window_display": true
  }
 },
 "nbformat": 4,
 "nbformat_minor": 2
}
