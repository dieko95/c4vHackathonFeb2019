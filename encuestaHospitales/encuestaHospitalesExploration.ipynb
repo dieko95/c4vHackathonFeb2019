{
 "cells": [
  {
   "cell_type": "markdown",
   "metadata": {},
   "source": [
    "# Encuesta de Hospitales Exploration"
   ]
  },
  {
   "cell_type": "markdown",
   "metadata": {},
   "source": [
    "## Import Libraries"
   ]
  },
  {
   "cell_type": "code",
   "execution_count": null,
   "metadata": {},
   "outputs": [],
   "source": [
    "import pandas as pd\n",
    "import csv"
   ]
  },
  {
   "cell_type": "markdown",
   "metadata": {},
   "source": [
    "## Read Data"
   ]
  },
  {
   "cell_type": "code",
   "execution_count": null,
   "metadata": {},
   "outputs": [],
   "source": [
    "\n",
    "# _enHospObj = pd.ExcelFile('dataset/Encuesta Nacional de Hospitales versión Diálisis(Responses).xlsx')\n",
    "# enHospDf = pd.read_excel('dataset/Encuesta Nacional de Hospitales versión Diálisis(Responses).xlsx',sheet_name=_enHospObj.sheet_names[0])\n",
    "\n",
    "\n",
    "enHospDf = pd.read_csv('dataset/Encuesta Nacional de Hospitales.csv')"
   ]
  },
  {
   "cell_type": "markdown",
   "metadata": {},
   "source": [
    "## First Exploration iteration"
   ]
  },
  {
   "cell_type": "code",
   "execution_count": null,
   "metadata": {},
   "outputs": [],
   "source": [
    "# 118 Columns\n",
    "\n",
    "# enHospDf.info() # float(10 columns), int(64 columns), object(93 columns)\n",
    "\n",
    "enHospDf.isna().sum().sum() #17,539 null datapoints\n",
    "\n",
    "nullValues = enHospDf.isnull().mean().sort_values(ascending = False) # Percentage of Null Values per column\n",
    "\n",
    "nullValues[nullValues > 0.1].count() # 46 columns have more than 10% null Values\n",
    "\n",
    "nullValues.head() # Top 5 Variables have more than 87% of their values missing\n"
   ]
  },
  {
   "cell_type": "markdown",
   "metadata": {},
   "source": [
    "### Group Variables by heuristics\n",
    " The dataset is divided in 11 different sections:\n",
    " \n",
    "\n",
    "1. ID Data\n",
    "2. General operability Var 5 to var 8\n",
    "3. Specific operability <br> - In this section the 3 questions are likert scales. Thus, the high number of columns \n",
    "4. Dialysis Service\n",
    "5. Nutrition Service\n",
    "6. Attention Quality\n",
    "7. Personnel Availability\n",
    "8. Public Service\n",
    "9. Mortality Impact\n",
    "10. Violence and Protests\n",
    "11. Epidemiological Emergency"
   ]
  },
  {
   "cell_type": "code",
   "execution_count": null,
   "metadata": {},

   "outputs": [],
   "source": [
    "# Section 0\n",
    "idData = enHospDf.iloc[:,0:6]\n",
    "\n",
    "# Section 1 General Operability \n",
    "genOp = enHospDf.iloc[:,6:10]\n",
    "\n",
    "# Section 2 Especific Operability\n",
    "espOp = enHospDf.iloc[:,10:47]\n",
    "\n",
    "# Section 3 Dialysis Service\n",
    "dialServ = enHospDf.iloc[:,47:75]\n",
    "\n",
    "# Section 4 Nutrition Service\n",
    "nutriServ = enHospDf.iloc[:,75:83]\n",
    "\n",
    "# Section 5 Attention Quality\n",
    "attQual = enHospDf.iloc[:,83:85]\n",
    "\n",
    "# Section 6 Personnel Availability\n",
    "personelDisp = enHospDf.iloc[:,85:95]\n",
    "\n",
    "# Section 7 Public Services\n",
    "publicServ = enHospDf.iloc[:,95:107]\n",
    "\n",
    "# Section 8 Mortality Impact\n",
    "mortImpact = enHospDf.iloc[:,107:109]\n",
    "\n",
    "# Section 9 Violence and protests\n",
    "violence = enHospDf.iloc[:,109:117]\n",
    "\n",
    "# Section 10 Epidemy Emergency\n",
    "epiEmerg = enHospDf.iloc[:,-1]\n",
    "# enHospDf.columns[-4:-1]"
   ]
  },
  {
   "cell_type": "markdown",
   "metadata": {},
   "source": [
    "#### General Operability \n",
    "\n",
    "##### This section contains: \n",
    "1. <b>Number of architectural beds</b>: Maximum number of beds that the hospital was designed for. \n",
    "<br>\n",
    "2. <b>Number of operative beds</b>: Number of beds that are currently functional.\n",
    "<br>\n",
    "3. <b>Number of operative emergency beds</b>: Number of functional beds in ER.\n",
    "<br>\n",
    "4. <b>Number of operative hospital pavilions</b>:\n",
    " - Pavilion Definition: One of a group of related buildings (cambridge dictionary)\n",
    " <br><br>\n",
    "\n",
    "##### Possible Business Questions: <br>\n",
    "This section portrays the most elemental hospital operativity.\n",
    "\n",
    "- What are the current conditions of the hospital in terms of its operative beds and pavilions?\n",
    "- How the original number of beds differ from the actual number of beds that are operative?\n",
    "- Which hospitals have the highest amount of operative beds and Pavilions? \n",
    "- Which states have the highest/lowest amount of operative beds and Pavilions? \n",
    "<br><br> \n",
    "\n",
    "##### Questions to Client\n",
    "\n",
    "- The the sum of operative beds and operative emergency beds is higher the number of architectural beds. If the number of architectural beds is the maximum amount of beds that the hospital was designed for why the sum of all the beds is higher? \n",
    "\n",
    "\n",
    "<br><br> \n",
    "\n",
    "Source: http://maiquiflores.over-blog.es/article-definiciones-basicas-de-los-indicadores-de-la-gestion-hospitalaria-en-venezuela-2014-123693467.html\n",
    "\n",
    "Better source pending"
   ]
  },
  {
   "cell_type": "code",
   "execution_count": null,
   "metadata": {},
   "outputs": [],
   "source": [
    "# genOp.head()\n",
    "\n",
    "# Row 615 has corrupt datapoint. -> 8|8\n",
    "# Check with client how the quality of data that is submitted.\n",
    "_corruptGenOp = genOp[genOp['5.- Número de camas arquitectónicas'].apply(lambda x: type(x) == str)] \n",
    "\n",
    "genOp = genOp.drop(_corruptGenOp.index).astype(int)\n"
   ]
  },
  {
   "cell_type": "code",
   "execution_count": null,
   "metadata": {},
   "outputs": [],
   "source": [
    "# 131 rows where the sum of operative beds and operative emergency beds is higher to number of arquitectural beds\n",
    "\n",
    "genOp[(genOp.iloc[:,1] + genOp.iloc[:,2]) > genOp.iloc[:,0]]"
   ]
  },
  {
   "cell_type": "markdown",
   "metadata": {},
   "source": [
    "#### Specific Operability \n",
    "No null values\n",
    "<br> \n",
    "\n",
    "##### Possible Questions\n",
    "- What is the equipment that lacks the most?\n",
    "- Which hospitals have the most scarce equipment?\n",
    "- Which hospitals have the most complete equipment?\n",
    "- What are the medicines that lack the most?\n",
    "- What are the medicines that hospitals have the most availability?\n",
    "- Which hospitals have most scarcity of medicines?\n",
    "- Which hospitals have the most amount of medicines? \n",
    "- What is the availability of medicines per hospital? (interactive viz)\n",
    "- What is the availability of medicines per state? \n",
    "    - <i>In order to track demand of medicines as well</i>\n",
    "<br>\n",
    "\n",
    "\n",
    "##### Variables\n",
    "\n",
    "###### 9.- Equipment <br>\n",
    "- UTI: The UTI is the Intermediate Treatment Unit that has specialized personnel and equipment that allows patients who, after the critical stage, require constant surveillance, attention and observation, prior to transfer to a conventional room.\n",
    "- UTI(P): Definition Pending\n",
    "- Emergency: How much time has the ER been operative.\n",
    "- Pavilion: How much time have the Pavilions been operative.\n",
    "- Laboratory: How much time has the Laboratory been operative. \n",
    "- Ecography: How much time has the ecography been operative. \n",
    "- TAC/TMN: Axial Computarized Tomography [TAC], TMN To be defined. \n",
    "- X Rays: How much time has the X-Ray equipment has been operative. \n",
    "\n",
    "\n",
    "###### 10.- Medicines <br> \n",
    "- Adrenalin:\n",
    "- Atropine:\n",
    "- Dopamine:\n",
    "- Cephalosporins / beta-lactams:\n",
    "- Aminoglycosides / quinolones:\n",
    "- Vancomycin / Clindamycin:\n",
    "- Local anesthesia (lidocaine:\n",
    "- Minor analgesic (NSAIDs, dipyrone, etc.:\n",
    "- Major analgesic (morphine, demerol:\n",
    "- Fluidotherapics (0.9%, Gluc 5%,) / infusion equipment:\n",
    "- Diazepam / DPH:\n",
    "- Heparin:\n",
    "- Steroids:\n",
    "- Insulin:\n",
    "- Med inhaled for asthma:\n",
    "- Antihypertensive:\n",
    "- Defibrillator:\n",
    "- TOT / intubation:\n",
    "- Yelco / central roads:\n",
    "- Oxygen / suction:\n",
    "- Minor analgesics:\n",
    "- Major analgesics:\n",
    "- Anesthetic gases:\n",
    "- EV anesthetics:\n",
    "- Relaxing:\n",
    "- TOT / intubation equipment:\n",
    "- Patient lingerie kit:\n",
    "- Disposable health personnel (cap, gloves, gown:\n",
    "- Oxygen / suction:\n"
   ]
  },
  {
   "cell_type": "code",
   "execution_count": null,
   "metadata": {
    "code_folding": []
   },
   "outputs": [],
   "source": [
    "# from PyDictionary import PyDictionary\n",
    "\n",
    "# dictionary = PyDictionary() # In case we need to look up for the medicine definitions. \n",
    "\n",
    "# dictionary.meaning('Cephalosporins')\n",
    "espOp.head()"
   ]
  },
  {
   "cell_type": "markdown",
   "metadata": {},
   "source": [
    "#### Dialysis Service \n",
    "<br> \n",
    "<i> Note: All hospitals that don't have a dialysis service will not have datapoints in the rest of the section's questions.178 rows don't have dialysis service<i>  \n",
    "<br>\n",
    "\n",
    "##### Overall Dialysis Service\n",
    "- How many hospitals count with a dialysis service?\n",
    "- How many hospitals don't count with a dialysis service? \n",
    "\n",
    "<br>\n",
    "\n",
    "##### Non-Operative Dialysis Service\n",
    "- How many hospitals have a dialysis service that is not operative?\n",
    "- Why these hospitals dialysis service is not operative? \n",
    "- What is the name/location of these hospitals that don't have operative dialysis.  \n",
    "\n",
    "<br>\n",
    "\n",
    "##### Operative Dialysis Service\n",
    "<i> Note: Peritoneal and Hemodialysis are focused on the hospitals that provide them rather than the number of patients that each hospital attend. The reasoning behind this is to clearly communicate the overall state of dialysis services in Venezuela.   \n",
    "<br> \n",
    "- Overall Dialysis Service:\n",
    "    - How many and which hospitals have an operative dialysis service\n",
    "    - What is the number of weekly dialysis patients that each hospital has attended across time? \n",
    "        - <i> This question is designed to inspect the patient service trend across time <i>\n",
    "    - What is the total average number of hemodialysis and peritoneal dialysis patients by hospital?\n",
    "- Peritoneal Dialysis\n",
    "    - What is the number of hospitals that have peritoneal dialysis out of the total?\n",
    "    - What are the reason why hospitals don't provide peritoneal dialysis?\n",
    "    - Which hospitals don't provide peritoneal dialysis?\n",
    "- Hemodialysis\n",
    "    - What is the number of hospitals that have peritoneal dialysis out of the total? \n",
    "    - What is the overall percentage of acute and chronic hemodialysis patients? \n",
    "\n",
    "<br> \n",
    "##### Dialysis Materials Availability\n",
    "\n",
    "- Questions: \n",
    "    - What are the materials that lack the most?\n",
    "    - What are the materials that hospitals have the most availability?\n",
    "    - Which hospitals have most scarcity of materials?\n",
    "    - Which hospitals have the most amount of materials? \n",
    "    - What is the availability of materials per hospital? (interactive viz)\n",
    "    - What is the availability of materials per state? \n",
    "        - <i>In order to track demand of medicines as well</i>\n",
    "    - How many and which hospitals have an operative inverse osmosis plant?\n",
    "<br>\n",
    "\n",
    "\n",
    "###### Type of Materials\n",
    "- Filters\n",
    "- Connection lines\n",
    "- Hemodialysis kit\n",
    "- Iron\n",
    "- Complex B\n",
    "- Calcium\n",
    "- Zemblar®\n",
    "\n",
    "<br>\n",
    "\n",
    "##### Dialysis Personnel Availability\n",
    "- Questions: \n",
    "    - What personnel lacks the most? \n",
    "    - What personnel has the most availability?\n",
    "    - Which hospitals have the most lack & availability of dialysis personal?\n",
    "    - Which states have the most lack & availability of dialysis personal?\n",
    "    - What is the average number of days that each type of personnel is missing by hospital and by state?\n",
    "\n",
    "\n",
    "\n",
    "###### Type of DIalysis Personnel\n",
    "- Nephrologist Specialist\n",
    "- General practitioner\n",
    "- Resident\n",
    "- Graduate nurse\n",
    "- Nurse specialist in nephrology\n"
   ]
  },
  {
   "cell_type": "code",
   "execution_count": null,
   "metadata": {
    "scrolled": true
   },
   "outputs": [],
   "source": [
    "dialServ\n",
    "\n",
    "# Hospitals that never had dialysis service\n",
    "# dialServ[dialServ['12.- ¿Existe servicio de diálisis en su hospital?'] == 'No'].isnull().sum()\n",
    "\n",
    "# Hospitals that have a dialysis service\n",
    "# dialServ[dialServ['12.- ¿Existe servicio de diálisis en su hospital?'] == 'Sí']\n",
    "\n",
    "# Hospitals that have dialysis service that is not operative\n",
    "# dialServ[(dialServ['12.- ¿Existe servicio de diálisis en su hospital?']=='Sí') & (dialServ['13.-¿Está operativo el servicio de diálisis?'] == 'No')]\n"
   ]
  },
  {
   "cell_type": "markdown",
   "metadata": {},
   "source": [
    "#### Nutrition Service\n",
    "- Questions:\n",
    "    - Overall Nutrition Service\n",
    "        - How many hospitals out of the total count with nutrition service?\n",
    "        - Which hospitals don't count with nutrition service in the last week?\n",
    "        - From the hospitals that count with nutrion service how many don't have an operative nutrion service?\n",
    "        - From these hospitals, what is the most frequent reason that the nutrition service is not operative? \n",
    "        - Which hospitals have a nutrition service that is not operative in the last week?  \n",
    "        - What is the average operability of the nutrition service in terms of time?\n",
    "    - Meals Frequency: \n",
    "        - How frequent are the daily meals overall in terms of time?\n",
    "        - Which hospitals don't count with a nutrition service in the last week? \n",
    "        - Which hospitals have a low frequency of daily meals?\n",
    "    - Meals quality: \n",
    "        - What is the quality of nutrition service across time? \n",
    "        - What is the quality of nutrition service of all hospitals in the last week? \n",
    "        - Which have the lowest quality of nutrition service in the last week? \n",
    "    - Baby Milk Formulas: \n",
    "        - What is the overall frequency of the supply of milk formulas for babies? \n",
    "        - Which hospitals have the lowest/highest frequency of baby formulas in the past week? "
   ]
  },
  {
   "cell_type": "code",
   "execution_count": null,
   "metadata": {},
   "outputs": [],
   "source": [
    "# nutriServ['27.- ¿Existe servicio de nutrición en su hospital?'].value_counts()\n",
    "# nutriServ[nutriServ['27.- ¿Existe servicio de nutrición en su hospital?'] == 'No'].isnull().sum()\n",
    "\n",
    "# nutriServ[(nutriServ['27.- ¿Existe servicio de nutrición en su hospital?'] == \"Sí\") & (nutriServ['28.-¿Está operativo el servicio de nutrición?'] == 'No')]\n",
    "nutriServ"
   ]
  },
  {
   "cell_type": "markdown",
   "metadata": {},
   "source": [
    "#### Attention Quality\n",
    "\n",
    "This section is comprised by the interval of time between arriving to emergency and being attended. \n",
    "\n",
    "- Pneumonia Patients: \n",
    "    - What is the overall average wait time for pneumonia patients to be treated in ER? \n",
    "    - What is the average wait time for pneumonia patients per location (state) to be treated? \n",
    "    - Which hospitals have the fastest attention of pneumonia patients in the last week? \n",
    "    - Which hospitals have the slowest attention of pneumonia patients in the last week? \n",
    "<br><br>\n",
    "- Acute myocardial infarction patients (heart attack): \n",
    "    - What is the overall average wait time for heart attack patients to be treated in ER? \n",
    "    - What is the average wait time for heart attack patients per location (state) to be treated? \n",
    "    - Which hospitals have the fastest attention of heart attack patients in the last week? \n",
    "    - Which hospitals have the slowest attention of heart attack patients in the last week? "
   ]
  },
  {
   "cell_type": "code",
   "execution_count": null,
   "metadata": {},
   "outputs": [],
   "source": [
    "attQual"
   ]
  },
  {
   "cell_type": "markdown",
   "metadata": {},
   "source": [
    "#### Personnel Availability\n",
    "\n",
    "This section consists of the number of health professionals that were available per hospital in the past week. \n",
    "\n",
    "##### Questions\n",
    "- Which types of the health professionals are overall most available?\n",
    "- Which types of health professionals are overall less available?\n",
    "- How overall day and night shift professional availability vary?\n",
    "- Which hospitals have less overall availability of health professionals?\n",
    "    - Which are these health professionals? \n",
    "    - Where are these hospitals located? \n",
    "- Which hospitals have the most/least availability of health professionals in the last week?"
   ]
  },
  {
   "cell_type": "code",
   "execution_count": null,
   "metadata": {},
   "outputs": [],
   "source": [
    "personelDisp.head()"
   ]
  },
  {
   "cell_type": "markdown",
   "metadata": {},
   "source": [
    "#### Public Service\n",
    "\n",
    "- In which areas water service lacked the most?\n",
    "- Which hospitals lack water service in the last week?\n",
    "- What is the overall percentage of power outages?\n",
    "- What is the average power outages per hospital?\n",
    "- Which hospitals had the highest number of power outages in the last week? \n",
    "- What is the average number of power outages per hospital / per state?\n",
    "    - From these power outages,which equipment equipment has broken?\n",
    "- Which hospitals/states are in most need of power plants?\n",
    "    - Most malfunctioning power plants\n",
    "    - At least 1 death due to power outages.\n",
    "- In which hospitals patients have died due to power outages? \n",
    "    - How many?"
   ]
  },
  {
   "cell_type": "code",
   "execution_count": null,
   "metadata": {},
   "outputs": [],
   "source": [
    "publicServ\n",
    "\n",
    "# publicServ['51.- Duración promedio de fallos por semana del servicio luz eléctrica '].value_counts()\n",
    "# publicServ['53.- ¿Cuáles equipos fallaron posterior a fallas de energía la semana pasada? '].value_counts()[publicServ['53.- ¿Cuáles equipos fallaron posterior a fallas de energía la semana pasada? '].value_counts() <= 10]"
   ]
  },
  {
   "cell_type": "markdown",
   "metadata": {},
   "source": [
    "#### Mortality Impact\n",
    "\n",
    "\n",
    "- How many cardiovascular deaths per state/hospitals happened due to institutional failures?\n",
    "    - From these, which are the most common institutional failures?\n",
    "- How many trauma deaths per state/hospitals happened due to institutional failures?\n",
    "    - From these, which are the most common institutional failures?\n",
    "- In the last week how many deaths due to institutional failures occured?\n",
    "    - From which states\n",
    "    - From which hospitals\n",
    "    - Cardiovascular vs trauma\n",
    "\n",
    "\n",
    "<br>\n",
    "<br>\n",
    "\n",
    "______________________\n",
    "Preguntar:\n",
    "Cual es el tipo de falla institucional que se registra? Se puede utilizar la definición como definición?\n",
    "\n",
    "Falla Institucional definicion: \n",
    "\n",
    "Las causas más comunes de conflictos institucionales son fallas de comunicación, deficiencia en la estructura institucional y problemas en el comportamiento individual en las instituciones. Además, los recursos limitados son también considerados causa de conflicto, cuando involucran la inadecuada estructura física, la falta de recursos financieros, la disponibilidad de aparados estropeados y obsoletos, generando conflictos operacionales que afectan el desarrollo de los profesionales. http://scielo.isciii.es/scielo.php?script=sci_arttext&pid=S1132-12962012000100013"
   ]
  },
  {
   "cell_type": "code",
   "execution_count": null,
   "metadata": {},
   "outputs": [],
   "source": [
    "mortImpact[(mortImpact['57.- Número de muertes cardiovasculares interpretada como falla institucional (emergencia )'] >= 2.0)]"
   ]
  },
  {
   "cell_type": "markdown",
   "metadata": {},
   "source": [
    "#### Violence and Protests\n",
    "\n",
    "- How many protests have occurred per month?\n",
    "- Where these protests occurred?\n",
    "- From these protests, how many were done by medical personnel, nurses, other health professionals, and others?\n",
    "- How many protests have occurred per state?\n",
    "- Which are the most common violence against protesters overall and per state?"
   ]
  },
  {
   "cell_type": "code",
   "execution_count": null,
   "metadata": {},
   "outputs": [],
   "source": [
    "violence"
   ]
  },
  {
   "cell_type": "markdown",
   "metadata": {},
   "source": [
    "#### Epidemiology\n",
    "\n",
    "- What is the number of deaths per disease across time?\n",
    "- Where these deaths occurred?\n",
    "- What is the frequency/type/location of each disease in the last week?"
   ]
  },
  {
   "cell_type": "code",
   "execution_count": null,
   "metadata": {},
   "outputs": [],
   "source": [
    "epiEmerg.value_counts()"
   ]
  },
  {
   "cell_type": "markdown",
   "metadata": {},
   "source": [
    "### First Translation\n",
    "This is a quick translation of the columns using google translate's API"
   ]
  },
  {
   "cell_type": "code",
   "execution_count": null,
   "metadata": {},
   "outputs": [],
   "source": [
    "from googletrans import Translator\n",
    "translator = Translator()\n",
    "translation = translator.translate(enHospDf.columns.to_list(), src= 'spanish', dest='english')\n"
   ]
  },
  {
   "cell_type": "code",
   "execution_count": null,
   "metadata": {},
   "outputs": [],
   "source": [
    "# Append translated columns to list\n",
    "transCols = []\n",
    "\n",
    "for i in range(enHospDf.shape[1]): \n",
    "    transCols.append(translation[i].text)\n",
    "    \n",
    "# create csv with translated columns\n",
    "# with open ('dataset/translatedCols_1.csv','w') as myfile:\n",
    "#     wr = csv.writer(myfile, quoting=csv.QUOTE_ALL)\n",
    "#     wr.writerow(transCols)"
   ]
  },
  {
   "cell_type": "code",
   "execution_count": null,
   "metadata": {},
   "outputs": [],
   "source": [
    "# Create new DF with translated columns\n",
    "enHospDfTrans = enHospDf.copy() # Copy original DF\n",
    "enHospDfTrans.columns = transCols # Overwrite Column Names\n",
    "\n",
    "# Write Csv\n",
    "# enHospDfTrans.to_csv('dataset/NationalSurveyHospitals_Translated.csv',index = False)\n",
    "\n",
    "enHospDfTrans.head()"
   ]
  }
 ],
 "metadata": {
  "kernelspec": {
   "display_name": "Python 3",
   "language": "python",
   "name": "python3"
  },
  "language_info": {
   "codemirror_mode": {
    "name": "ipython",
    "version": 3
   },
   "file_extension": ".py",
   "mimetype": "text/x-python",
   "name": "python",
   "nbconvert_exporter": "python",
   "pygments_lexer": "ipython3",
   "version": "3.7.3"
  },
  "toc": {
   "base_numbering": 1,
   "nav_menu": {},
   "number_sections": true,
   "sideBar": true,
   "skip_h1_title": false,
   "title_cell": "Table of Contents",
   "title_sidebar": "Contents",
   "toc_cell": false,
   "toc_position": {
    "height": "calc(100% - 180px)",
    "left": "10px",
    "top": "150px",
    "width": "384px"
   },
   "toc_section_display": true,
   "toc_window_display": true
  },
  "varInspector": {
   "cols": {
    "lenName": 16,
    "lenType": 16,
    "lenVar": 40
   },
   "kernels_config": {
    "python": {
     "delete_cmd_postfix": "",
     "delete_cmd_prefix": "del ",
     "library": "var_list.py",
     "varRefreshCmd": "print(var_dic_list())"
    },
    "r": {
     "delete_cmd_postfix": ") ",
     "delete_cmd_prefix": "rm(",
     "library": "var_list.r",
     "varRefreshCmd": "cat(var_dic_list()) "
    }
   },
   "oldHeight": 389,
   "position": {
    "height": "40px",
    "left": "1599px",
    "right": "20px",
    "top": "255px",
    "width": "250px"
   },
   "types_to_exclude": [
    "module",
    "function",
    "builtin_function_or_method",
    "instance",
    "_Feature"
   ],
   "varInspector_section_display": "none",
   "window_display": true
  }
 },
 "nbformat": 4,
 "nbformat_minor": 2
}
