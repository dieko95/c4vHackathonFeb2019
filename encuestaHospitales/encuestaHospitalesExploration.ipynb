{
 "cells": [
  {
   "cell_type": "markdown",
   "metadata": {},
   "source": [
    "# Encuesta de Hospitales Exploration"
   ]
  },
  {
   "cell_type": "markdown",
   "metadata": {},
   "source": [
    "## Import Libraries"
   ]
  },
  {
   "cell_type": "code",
   "execution_count": 2,
   "metadata": {
    "ExecuteTime": {
     "end_time": "2019-12-21T01:30:21.407726Z",
     "start_time": "2019-12-21T01:30:21.059053Z"
    }
   },
   "outputs": [],
   "source": [
    "import pandas as pd\n",
    "import csv"
   ]
  },
  {
   "cell_type": "code",
   "execution_count": 213,
   "metadata": {
    "ExecuteTime": {
     "end_time": "2019-12-21T19:39:03.439695Z",
     "start_time": "2019-12-21T19:39:02.343213Z"
    }
   },
   "outputs": [],
   "source": [
    "\n",
    "_enHospObj = pd.ExcelFile('dataset/Encuesta Nacional de Hospitales versión Diálisis(Responses).xlsx')\n",
    "enHospDf = pd.read_excel('dataset/Encuesta Nacional de Hospitales versión Diálisis(Responses).xlsx',sheet_name=_enHospObj.sheet_names[0])\n"
   ]
  },
  {
   "cell_type": "markdown",
   "metadata": {},
   "source": [
    "## First Exploration iteration"
   ]
  },
  {
   "cell_type": "code",
   "execution_count": 263,
   "metadata": {
    "ExecuteTime": {
     "end_time": "2019-12-21T19:59:06.858903Z",
     "start_time": "2019-12-21T19:59:06.848466Z"
    }
   },
   "outputs": [
    {
     "data": {
      "text/plain": [
       "61.- En caso que haya ocurrido algún tipo de protesta, señale las opciones de protesta mas ajustadas  [Otros]       0.936675\n",
       "15.- ¿Cuál es la/las razón(es) por la que no está operativo el servicio de diálisis? (seleccione las correctas)     0.908971\n",
       "14.- ¿Desde cuándo no está operativo el servicio de diálisis?                                                       0.895778\n",
       "30.- ¿Cuál es la/las razón(es) por la que no está operativo el servicio de nutrición? (seleccione las correctas)    0.873351\n",
       "29.- ¿Desde cuándo no está operativo el servicio de nutrición?                                                      0.873351\n",
       "dtype: float64"
      ]
     },
     "execution_count": 263,
     "metadata": {},
     "output_type": "execute_result"
    }
   ],
   "source": [
    "# 118 Columns\n",
    "\n",
    "# enHospDf.info() # float(10 columns), int(64 columns), object(93 columns)\n",
    "\n",
    "enHospDf.isna().sum().sum() #17,539 null datapoints\n",
    "\n",
    "nullValues = enHospDf.isnull().mean().sort_values(ascending = False) # Percentage of Null Values per column\n",
    "\n",
    "nullValues[nullValues > 0.1].count() # 46 columns have more than 10% null Values\n",
    "\n",
    "nullValues.head() # Top 5 Variables have more than 87% of their values missing\n"
   ]
  },
  {
   "cell_type": "markdown",
   "metadata": {},
   "source": [
    "### Group Variables by heuristics\n",
    " The dataset is divided in 11 different sections:\n",
    " \n",
    "\n",
    "1. ID Data\n",
    "2. General operability Var 5 to var 8\n",
    "3. Specific operability <br> - In this section the 3 questions are likert scales. Thus, the high number of columns \n",
    "4. Dialysis Service\n",
    "5. Nutrition Service\n",
    "6. Attention Quality\n",
    "7. Personnel Availability\n",
    "8. Public Service\n",
    "9. Mortality Impact\n",
    "10. Violence and Protests\n",
    "11. Epidemiological Emergency"
   ]
  },
  {
   "cell_type": "code",
   "execution_count": 215,
   "metadata": {
    "ExecuteTime": {
     "end_time": "2019-12-21T19:39:04.852991Z",
     "start_time": "2019-12-21T19:39:04.840184Z"
    }
   },
   "outputs": [],
   "source": [
    "# Section 1\n",
    "idData = enHospDf.iloc[:,0:6]\n",
    "\n",
    "# Section 2\n",
    "genOp = enHospDf.iloc[:,6:10]\n",
    "\n",
    "# Section 3\n",
    "espOp = enHospDf.iloc[:,10:47]\n",
    "\n",
    "# Section 4\n",
    "dialServ = enHospDf.iloc[:,47:72]\n",
    "\n",
    "# Section 5\n",
    "nutriServ = enHospDf.iloc[:,72:80]\n",
    "\n",
    "# Section 6\n",
    "attQual = enHospDf.iloc[:,80:82]\n",
    "\n",
    "# Section 7\n",
    "personelDisp = enHospDf.iloc[:,82:91]\n",
    "\n",
    "# Section 8 \n",
    "publicServ = enHospDf.iloc[:,91:104]\n",
    "\n",
    "# Section 9\n",
    "mortImpact = enHospDf.iloc[:,104:108]\n",
    "\n",
    "# Section 10 \n",
    "violence = enHospDf.iloc[:,108:114]\n",
    "\n",
    "# Section 11 \n",
    "epiEmerg = enHospDf.iloc[:,115]"
   ]
  },
  {
   "cell_type": "markdown",
   "metadata": {},
   "source": [
    "### First Translation\n",
    "This is a quick translation of the columns using google translate's API"
   ]
  },
  {
   "cell_type": "code",
   "execution_count": 224,
   "metadata": {
    "ExecuteTime": {
     "end_time": "2019-12-21T19:41:09.403955Z",
     "start_time": "2019-12-21T19:40:40.390876Z"
    }
   },
   "outputs": [],
   "source": [
    "from googletrans import Translator\n",
    "translator = Translator()\n",
    "translation = translator.translate(enHospDf.columns.to_list(), src= 'spanish', dest='english')\n"
   ]
  },
  {
   "cell_type": "code",
   "execution_count": 227,
   "metadata": {
    "ExecuteTime": {
     "end_time": "2019-12-21T19:44:24.764564Z",
     "start_time": "2019-12-21T19:44:24.759420Z"
    }
   },
   "outputs": [],
   "source": [
    "# Append translated columns to list\n",
    "transCols = []\n",
    "\n",
    "for i in range(enHospDf.shape[1]): \n",
    "    transCols.append(translation[i].text)\n",
    "    \n",
    "# create csv with translated columns\n",
    "# with open ('dataset/translatedCols_1.csv','w') as myfile:\n",
    "#     wr = csv.writer(myfile, quoting=csv.QUOTE_ALL)\n",
    "#     wr.writerow(transCols)"
   ]
  },
  {
   "cell_type": "code",
   "execution_count": 250,
   "metadata": {
    "ExecuteTime": {
     "end_time": "2019-12-21T19:55:30.966971Z",
     "start_time": "2019-12-21T19:55:30.928120Z"
    }
   },
   "outputs": [
    {
     "data": {
      "text/html": [
       "<div>\n",
       "<style scoped>\n",
       "    .dataframe tbody tr th:only-of-type {\n",
       "        vertical-align: middle;\n",
       "    }\n",
       "\n",
       "    .dataframe tbody tr th {\n",
       "        vertical-align: top;\n",
       "    }\n",
       "\n",
       "    .dataframe thead th {\n",
       "        text-align: right;\n",
       "    }\n",
       "</style>\n",
       "<table border=\"1\" class=\"dataframe\">\n",
       "  <thead>\n",
       "    <tr style=\"text-align: right;\">\n",
       "      <th></th>\n",
       "      <th>timestamp</th>\n",
       "      <th>reporting week</th>\n",
       "      <th>1. Code of the Hospital</th>\n",
       "      <th>2. Federal Entity</th>\n",
       "      <th>3. Type Hospital</th>\n",
       "      <th>4. Administrative Entity (select all that apply)</th>\n",
       "      <th>5. Number of architectural beds</th>\n",
       "      <th>6. Number of operating beds</th>\n",
       "      <th>7. Number of operating beds in emergency</th>\n",
       "      <th>8. Number of operating pavilions</th>\n",
       "      <th>...</th>\n",
       "      <th>61. Should some sort of protest, indicate the options tighter protest occurred [Medical staff]</th>\n",
       "      <th>61. In case any kind of protest occurred, indicate the options protest tighter [Nurses]</th>\n",
       "      <th>61. Should some sort of protest, indicate the options tighter protest occurred [Other personnel of the Hospital]</th>\n",
       "      <th>61. In case any kind of protest occurred, indicate the options protest tighter [Family and / or patients]</th>\n",
       "      <th>61. In case any kind of protest occurred, indicate the options protest tighter [Other]</th>\n",
       "      <th>62.- Should have occurred situations of violence against hospital staff, indicate the corresponding options (select all that apply)</th>\n",
       "      <th>63. Point out any situation (deceased or hospitalized) with clinical suspicion of any of these conditions (select all that apply)</th>\n",
       "      <th>24.- From the medical-surgical and laboratory supplies necessary for hemodialysis describe availability in the last week [Catheters high flow]</th>\n",
       "      <th>24. Of the materials medical surgical and laboratory needed for hemodialysis describe availability in the last week [serology tests (HIV, HVB, HVC and VDR) L)]</th>\n",
       "      <th>24.- From the medical-surgical and laboratory supplies necessary for hemodialysis describe availability in the last week [immediate access% reduction in urea or BUN]</th>\n",
       "    </tr>\n",
       "  </thead>\n",
       "  <tbody>\n",
       "    <tr>\n",
       "      <th>0</th>\n",
       "      <td>2019-05-31 02:24:50.176</td>\n",
       "      <td>22 del 2019</td>\n",
       "      <td>DCA001</td>\n",
       "      <td>Dtto Capital</td>\n",
       "      <td>Tipo III</td>\n",
       "      <td>MPPS</td>\n",
       "      <td>15</td>\n",
       "      <td>6</td>\n",
       "      <td>18</td>\n",
       "      <td>3</td>\n",
       "      <td>...</td>\n",
       "      <td>NaN</td>\n",
       "      <td>NaN</td>\n",
       "      <td>NaN</td>\n",
       "      <td>NaN</td>\n",
       "      <td>NaN</td>\n",
       "      <td>Robos , hurtos o disparos dentro del centro as...</td>\n",
       "      <td>TBC en personal de salud</td>\n",
       "      <td>NaN</td>\n",
       "      <td>NaN</td>\n",
       "      <td>NaN</td>\n",
       "    </tr>\n",
       "    <tr>\n",
       "      <th>1</th>\n",
       "      <td>2019-06-01 14:10:32.817</td>\n",
       "      <td>22 del 2019</td>\n",
       "      <td>DCA005</td>\n",
       "      <td>Dtto Capital</td>\n",
       "      <td>Tipo IV</td>\n",
       "      <td>IVSS</td>\n",
       "      <td>265</td>\n",
       "      <td>240</td>\n",
       "      <td>30</td>\n",
       "      <td>3</td>\n",
       "      <td>...</td>\n",
       "      <td>NaN</td>\n",
       "      <td>NaN</td>\n",
       "      <td>NaN</td>\n",
       "      <td>NaN</td>\n",
       "      <td>NaN</td>\n",
       "      <td>Violencia contra personal de hospital por fami...</td>\n",
       "      <td>Difteria, Sarampión, Síndrome Gillan Barré</td>\n",
       "      <td>NaN</td>\n",
       "      <td>NaN</td>\n",
       "      <td>NaN</td>\n",
       "    </tr>\n",
       "    <tr>\n",
       "      <th>2</th>\n",
       "      <td>2019-06-03 18:18:40.727</td>\n",
       "      <td>22 del 2019</td>\n",
       "      <td>POR000</td>\n",
       "      <td>Portuguesa</td>\n",
       "      <td>Tipo III</td>\n",
       "      <td>MPPS</td>\n",
       "      <td>300</td>\n",
       "      <td>240</td>\n",
       "      <td>45</td>\n",
       "      <td>33</td>\n",
       "      <td>...</td>\n",
       "      <td>NaN</td>\n",
       "      <td>NaN</td>\n",
       "      <td>NaN</td>\n",
       "      <td>NaN</td>\n",
       "      <td>NaN</td>\n",
       "      <td>Robos , hurtos o disparos dentro del centro as...</td>\n",
       "      <td>TBC en personal de salud</td>\n",
       "      <td>NaN</td>\n",
       "      <td>NaN</td>\n",
       "      <td>NaN</td>\n",
       "    </tr>\n",
       "    <tr>\n",
       "      <th>3</th>\n",
       "      <td>2019-06-03 18:44:38.682</td>\n",
       "      <td>22 del 2019</td>\n",
       "      <td>FAL000</td>\n",
       "      <td>Falcón</td>\n",
       "      <td>Tipo IV</td>\n",
       "      <td>Gob. Estatal</td>\n",
       "      <td>300</td>\n",
       "      <td>211</td>\n",
       "      <td>30</td>\n",
       "      <td>1</td>\n",
       "      <td>...</td>\n",
       "      <td>Protestas  sin suspensión de actividades</td>\n",
       "      <td>Protestas  sin suspensión de actividades</td>\n",
       "      <td>NaN</td>\n",
       "      <td>Protestas  sin suspensión de actividades</td>\n",
       "      <td>NaN</td>\n",
       "      <td>Violencia contra personal de hospital por fami...</td>\n",
       "      <td>NaN</td>\n",
       "      <td>NaN</td>\n",
       "      <td>NaN</td>\n",
       "      <td>NaN</td>\n",
       "    </tr>\n",
       "    <tr>\n",
       "      <th>4</th>\n",
       "      <td>2019-06-03 18:52:46.912</td>\n",
       "      <td>22 del 2019</td>\n",
       "      <td>VAR000</td>\n",
       "      <td>Vargas</td>\n",
       "      <td>Tipo III</td>\n",
       "      <td>IVSS</td>\n",
       "      <td>180</td>\n",
       "      <td>120</td>\n",
       "      <td>14</td>\n",
       "      <td>2</td>\n",
       "      <td>...</td>\n",
       "      <td>NaN</td>\n",
       "      <td>NaN</td>\n",
       "      <td>NaN</td>\n",
       "      <td>NaN</td>\n",
       "      <td>NaN</td>\n",
       "      <td>NaN</td>\n",
       "      <td>NaN</td>\n",
       "      <td>NaN</td>\n",
       "      <td>NaN</td>\n",
       "      <td>NaN</td>\n",
       "    </tr>\n",
       "  </tbody>\n",
       "</table>\n",
       "<p>5 rows × 118 columns</p>\n",
       "</div>"
      ],
      "text/plain": [
       "                timestamp reporting week 1. Code of the Hospital  \\\n",
       "0 2019-05-31 02:24:50.176    22 del 2019                  DCA001   \n",
       "1 2019-06-01 14:10:32.817    22 del 2019                  DCA005   \n",
       "2 2019-06-03 18:18:40.727    22 del 2019                  POR000   \n",
       "3 2019-06-03 18:44:38.682    22 del 2019                  FAL000   \n",
       "4 2019-06-03 18:52:46.912    22 del 2019                  VAR000   \n",
       "\n",
       "  2. Federal Entity 3. Type Hospital  \\\n",
       "0      Dtto Capital         Tipo III   \n",
       "1      Dtto Capital          Tipo IV   \n",
       "2        Portuguesa         Tipo III   \n",
       "3            Falcón          Tipo IV   \n",
       "4            Vargas         Tipo III   \n",
       "\n",
       "  4. Administrative Entity (select all that apply)  \\\n",
       "0                                             MPPS   \n",
       "1                                             IVSS   \n",
       "2                                             MPPS   \n",
       "3                                     Gob. Estatal   \n",
       "4                                             IVSS   \n",
       "\n",
       "  5. Number of architectural beds  6. Number of operating beds  \\\n",
       "0                              15                            6   \n",
       "1                             265                          240   \n",
       "2                             300                          240   \n",
       "3                             300                          211   \n",
       "4                             180                          120   \n",
       "\n",
       "   7. Number of operating beds in emergency  8. Number of operating pavilions  \\\n",
       "0                                        18                                 3   \n",
       "1                                        30                                 3   \n",
       "2                                        45                                33   \n",
       "3                                        30                                 1   \n",
       "4                                        14                                 2   \n",
       "\n",
       "   ...  \\\n",
       "0  ...   \n",
       "1  ...   \n",
       "2  ...   \n",
       "3  ...   \n",
       "4  ...   \n",
       "\n",
       "  61. Should some sort of protest, indicate the options tighter protest occurred [Medical staff]  \\\n",
       "0                                                NaN                                               \n",
       "1                                                NaN                                               \n",
       "2                                                NaN                                               \n",
       "3           Protestas  sin suspensión de actividades                                               \n",
       "4                                                NaN                                               \n",
       "\n",
       "  61. In case any kind of protest occurred, indicate the options protest tighter [Nurses]  \\\n",
       "0                                                NaN                                        \n",
       "1                                                NaN                                        \n",
       "2                                                NaN                                        \n",
       "3           Protestas  sin suspensión de actividades                                        \n",
       "4                                                NaN                                        \n",
       "\n",
       "  61. Should some sort of protest, indicate the options tighter protest occurred [Other personnel of the Hospital]  \\\n",
       "0                                                NaN                                                                 \n",
       "1                                                NaN                                                                 \n",
       "2                                                NaN                                                                 \n",
       "3                                                NaN                                                                 \n",
       "4                                                NaN                                                                 \n",
       "\n",
       "  61. In case any kind of protest occurred, indicate the options protest tighter [Family and / or patients]  \\\n",
       "0                                                NaN                                                          \n",
       "1                                                NaN                                                          \n",
       "2                                                NaN                                                          \n",
       "3           Protestas  sin suspensión de actividades                                                          \n",
       "4                                                NaN                                                          \n",
       "\n",
       "  61. In case any kind of protest occurred, indicate the options protest tighter [Other]  \\\n",
       "0                                                NaN                                       \n",
       "1                                                NaN                                       \n",
       "2                                                NaN                                       \n",
       "3                                                NaN                                       \n",
       "4                                                NaN                                       \n",
       "\n",
       "  62.- Should have occurred situations of violence against hospital staff, indicate the corresponding options (select all that apply)  \\\n",
       "0  Robos , hurtos o disparos dentro del centro as...                                                                                    \n",
       "1  Violencia contra personal de hospital por fami...                                                                                    \n",
       "2  Robos , hurtos o disparos dentro del centro as...                                                                                    \n",
       "3  Violencia contra personal de hospital por fami...                                                                                    \n",
       "4                                                NaN                                                                                    \n",
       "\n",
       "  63. Point out any situation (deceased or hospitalized) with clinical suspicion of any of these conditions (select all that apply)  \\\n",
       "0                           TBC en personal de salud                                                                                  \n",
       "1         Difteria, Sarampión, Síndrome Gillan Barré                                                                                  \n",
       "2                           TBC en personal de salud                                                                                  \n",
       "3                                                NaN                                                                                  \n",
       "4                                                NaN                                                                                  \n",
       "\n",
       "  24.- From the medical-surgical and laboratory supplies necessary for hemodialysis describe availability in the last week [Catheters high flow]  \\\n",
       "0                                                NaN                                                                                               \n",
       "1                                                NaN                                                                                               \n",
       "2                                                NaN                                                                                               \n",
       "3                                                NaN                                                                                               \n",
       "4                                                NaN                                                                                               \n",
       "\n",
       "  24. Of the materials medical surgical and laboratory needed for hemodialysis describe availability in the last week [serology tests (HIV, HVB, HVC and VDR) L)]  \\\n",
       "0                                                NaN                                                                                                                \n",
       "1                                                NaN                                                                                                                \n",
       "2                                                NaN                                                                                                                \n",
       "3                                                NaN                                                                                                                \n",
       "4                                                NaN                                                                                                                \n",
       "\n",
       "  24.- From the medical-surgical and laboratory supplies necessary for hemodialysis describe availability in the last week [immediate access% reduction in urea or BUN]  \n",
       "0                                                NaN                                                                                                                     \n",
       "1                                                NaN                                                                                                                     \n",
       "2                                                NaN                                                                                                                     \n",
       "3                                                NaN                                                                                                                     \n",
       "4                                                NaN                                                                                                                     \n",
       "\n",
       "[5 rows x 118 columns]"
      ]
     },
     "execution_count": 250,
     "metadata": {},
     "output_type": "execute_result"
    }
   ],
   "source": [
    "# Create new DF with translated columns\n",
    "enHospDfTrans = enHospDf.copy() # Copy original DF\n",
    "enHospDfTrans.columns = transCols # Overwrite Column Names\n",
    "\n",
    "# Write Csv\n",
    "# enHospDfTrans.to_csv('dataset/NationalSurveyHospitals_Translated.csv',index = False)\n",
    "\n",
    "enHospDfTrans.head()"
   ]
  }
 ],
 "metadata": {
  "kernelspec": {
   "display_name": "Python 3",
   "language": "python",
   "name": "python3"
  },
  "language_info": {
   "codemirror_mode": {
    "name": "ipython",
    "version": 3
   },
   "file_extension": ".py",
   "mimetype": "text/x-python",
   "name": "python",
   "nbconvert_exporter": "python",
   "pygments_lexer": "ipython3",
   "version": "3.7.3"
  },
  "toc": {
   "base_numbering": 1,
   "nav_menu": {},
   "number_sections": true,
   "sideBar": true,
   "skip_h1_title": false,
   "title_cell": "Table of Contents",
   "title_sidebar": "Contents",
   "toc_cell": false,
   "toc_position": {},
   "toc_section_display": true,
   "toc_window_display": false
  },
  "varInspector": {
   "cols": {
    "lenName": 16,
    "lenType": 16,
    "lenVar": 40
   },
   "kernels_config": {
    "python": {
     "delete_cmd_postfix": "",
     "delete_cmd_prefix": "del ",
     "library": "var_list.py",
     "varRefreshCmd": "print(var_dic_list())"
    },
    "r": {
     "delete_cmd_postfix": ") ",
     "delete_cmd_prefix": "rm(",
     "library": "var_list.r",
     "varRefreshCmd": "cat(var_dic_list()) "
    }
   },
   "oldHeight": 389,
   "position": {
    "height": "40px",
    "left": "1650px",
    "right": "20px",
    "top": "120px",
    "width": "250px"
   },
   "types_to_exclude": [
    "module",
    "function",
    "builtin_function_or_method",
    "instance",
    "_Feature"
   ],
   "varInspector_section_display": "none",
   "window_display": true
  }
 },
 "nbformat": 4,
 "nbformat_minor": 2
}
